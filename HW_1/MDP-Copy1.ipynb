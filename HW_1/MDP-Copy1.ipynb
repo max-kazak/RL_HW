{
 "cells": [
  {
   "cell_type": "code",
   "execution_count": 1,
   "metadata": {
    "collapsed": true
   },
   "outputs": [],
   "source": [
    "import mdptoolbox\n",
    "import numpy as np"
   ]
  },
  {
   "cell_type": "code",
   "execution_count": 86,
   "metadata": {
    "collapsed": true
   },
   "outputs": [],
   "source": [
    "states = 100\n",
    "N = 21\n",
    "isBadSide = [1,1,1,1,0,0,0,0,1,0,1,0,1,1,0,1,0,0,0,1,0]\n",
    "p = 1./len(isBadSide)"
   ]
  },
  {
   "cell_type": "code",
   "execution_count": 87,
   "metadata": {},
   "outputs": [],
   "source": [
    "prob = np.zeros((2, states+2, states+2))\n",
    "\n",
    "#==== action: continue playing ====\n",
    "\n",
    "#terminal states\n",
    "prob[0, states, states] = 1. # lose\n",
    "prob[0, states+1, states+1] = 1. # win\n",
    "\n",
    "for i in range(states):\n",
    "    for side in range(len(isBadSide)):\n",
    "        if isBadSide[side] == 0:\n",
    "            cash = side + 1\n",
    "            if i+cash < states:\n",
    "                prob[0][i][i+cash] += p\n",
    "            else:\n",
    "                prob[0][i][states+1] += p\n",
    "    prob[0][i][states] += p * sum(isBadSide)\n",
    "\n",
    "#==== action: get bank ====\n",
    "prob[1, :, states+1] = 1.\n",
    "\n",
    "prob[1, states, states+1] = 0\n",
    "prob[1, states, states] = 1.\n",
    "\n",
    "\n",
    "#==== check\n",
    "#print(prob[0])"
   ]
  },
  {
   "cell_type": "code",
   "execution_count": 88,
   "metadata": {},
   "outputs": [],
   "source": [
    "#rewards = np.zeros((2, states+2, states+2))\n",
    "#rewards[0, :states, states] = -states\n",
    "#for i in range(states):\n",
    "#    rewards[1, i, states+1] = i\n",
    "\n",
    "rewards = np.zeros((states+2, 2))\n",
    "rewards[states] = 0\n",
    "for i in range(states):\n",
    "    rewards[i, 1] = i\n",
    "\n",
    "#print(rewards)"
   ]
  },
  {
   "cell_type": "code",
   "execution_count": 89,
   "metadata": {},
   "outputs": [
    {
     "name": "stdout",
     "output_type": "stream",
     "text": [
      "WARNING: check conditions of convergence. With no discount, convergence can not be assumed.\n"
     ]
    }
   ],
   "source": [
    "vi = mdptoolbox.mdp.ValueIteration(prob, rewards, 1.)\n",
    "vi.run()"
   ]
  },
  {
   "cell_type": "code",
   "execution_count": 90,
   "metadata": {},
   "outputs": [
    {
     "name": "stdout",
     "output_type": "stream",
     "text": [
      "(0, 0, 0, 0, 0, 0, 0, 0, 0, 0, 0, 0, 0, 0, 1, 1, 1, 1, 1, 1, 1, 1, 1, 1, 1, 1, 1, 1, 1, 1, 1, 1, 1, 1, 1, 1, 1, 1, 1, 1, 1, 1, 1, 1, 1, 1, 1, 1, 1, 1, 1, 1, 1, 1, 1, 1, 1, 1, 1, 1, 1, 1, 1, 1, 1, 1, 1, 1, 1, 1, 1, 1, 1, 1, 1, 1, 1, 1, 1, 1, 1, 1, 1, 1, 1, 1, 1, 1, 1, 1, 1, 1, 1, 1, 1, 1, 1, 1, 1, 1, 0, 0)\n",
      "(7.3799805636540325, 7.757801533311737, 8.144260878954757, 8.551884245761796, 8.965986394557824, 9.39909297052154, 9.836734693877549, 10.297052154195011, 10.780045351473923, 11.285714285714285, 11.809523809523808, 12.333333333333332, 12.857142857142856, 13.38095238095238, 14.0, 15.0, 16.0, 17.0, 18.0, 19.0, 20.0, 21.0, 22.0, 23.0, 24.0, 25.0, 26.0, 27.0, 28.0, 29.0, 30.0, 31.0, 32.0, 33.0, 34.0, 35.0, 36.0, 37.0, 38.0, 39.0, 40.0, 41.0, 42.0, 43.0, 44.0, 45.0, 46.0, 47.0, 48.0, 49.0, 50.0, 51.0, 52.0, 53.0, 54.0, 55.0, 56.0, 57.0, 58.0, 59.0, 60.0, 61.0, 62.0, 63.0, 64.0, 65.0, 66.0, 67.0, 68.0, 69.0, 70.0, 71.0, 72.0, 73.0, 74.0, 75.0, 76.0, 77.0, 78.0, 79.0, 80.0, 81.0, 82.0, 83.0, 84.0, 85.0, 86.0, 87.0, 88.0, 89.0, 90.0, 91.0, 92.0, 93.0, 94.0, 95.0, 96.0, 97.0, 98.0, 99.0, 0.0, 0.0)\n"
     ]
    }
   ],
   "source": [
    "optimal_policy = vi.policy\n",
    "expected_values = vi.V\n",
    "\n",
    "print(optimal_policy)\n",
    "print(expected_values)"
   ]
  },
  {
   "cell_type": "code",
   "execution_count": 91,
   "metadata": {},
   "outputs": [
    {
     "data": {
      "text/plain": [
       "14"
      ]
     },
     "execution_count": 91,
     "metadata": {},
     "output_type": "execute_result"
    }
   ],
   "source": [
    "threshold = 0\n",
    "for i in range(len(optimal_policy)):\n",
    "    if optimal_policy[i] == 1:\n",
    "        threshold = i\n",
    "        break\n",
    "threshold"
   ]
  },
  {
   "cell_type": "code",
   "execution_count": 93,
   "metadata": {},
   "outputs": [
    {
     "data": {
      "text/plain": [
       "7.376525213259907"
      ]
     },
     "execution_count": 93,
     "metadata": {},
     "output_type": "execute_result"
    }
   ],
   "source": [
    "# Calc final\n",
    "def calc_exp(bank=0):\n",
    "    if bank > threshold-2:\n",
    "        return 0\n",
    "    exp = 0\n",
    "    for side in range(N):\n",
    "        if isBadSide[side] == 1:\n",
    "            exp += -bank * p\n",
    "        else:\n",
    "            exp += (side+1) * p + calc_exp(bank+side+1) * p\n",
    "    return exp\n",
    "\n",
    "calc_exp()"
   ]
  },
  {
   "cell_type": "code",
   "execution_count": null,
   "metadata": {
    "collapsed": true
   },
   "outputs": [],
   "source": []
  },
  {
   "cell_type": "code",
   "execution_count": null,
   "metadata": {
    "collapsed": true
   },
   "outputs": [],
   "source": []
  }
 ],
 "metadata": {
  "kernelspec": {
   "display_name": "Python 3",
   "language": "python",
   "name": "python3"
  },
  "language_info": {
   "codemirror_mode": {
    "name": "ipython",
    "version": 3
   },
   "file_extension": ".py",
   "mimetype": "text/x-python",
   "name": "python",
   "nbconvert_exporter": "python",
   "pygments_lexer": "ipython3",
   "version": "3.6.2"
  }
 },
 "nbformat": 4,
 "nbformat_minor": 2
}
