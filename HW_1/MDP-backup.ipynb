{
 "cells": [
  {
   "cell_type": "code",
   "execution_count": 1,
   "metadata": {
    "collapsed": true
   },
   "outputs": [],
   "source": [
    "import mdptoolbox\n",
    "import numpy as np"
   ]
  },
  {
   "cell_type": "code",
   "execution_count": 7,
   "metadata": {
    "collapsed": true
   },
   "outputs": [],
   "source": [
    "states = 10\n",
    "N = 6\n",
    "isBadSide = [1,1,1,0,0,0]\n",
    "p = 1./len(isBadSide)"
   ]
  },
  {
   "cell_type": "code",
   "execution_count": 11,
   "metadata": {},
   "outputs": [
    {
     "name": "stdout",
     "output_type": "stream",
     "text": [
      "[[ 0.          0.          0.          0.          0.16666667  0.16666667\n",
      "   0.16666667  0.          0.          0.          0.5         0.        ]\n",
      " [ 0.          0.          0.          0.          0.          0.16666667\n",
      "   0.16666667  0.16666667  0.          0.          0.5         0.        ]\n",
      " [ 0.          0.          0.          0.          0.          0.\n",
      "   0.16666667  0.16666667  0.16666667  0.          0.5         0.        ]\n",
      " [ 0.          0.          0.          0.          0.          0.          0.\n",
      "   0.16666667  0.16666667  0.16666667  0.5         0.        ]\n",
      " [ 0.          0.          0.          0.          0.          0.          0.\n",
      "   0.          0.16666667  0.16666667  0.5         0.16666667]\n",
      " [ 0.          0.          0.          0.          0.          0.          0.\n",
      "   0.          0.          0.16666667  0.5         0.33333333]\n",
      " [ 0.          0.          0.          0.          0.          0.          0.\n",
      "   0.          0.          0.          0.5         0.5       ]\n",
      " [ 0.          0.          0.          0.          0.          0.          0.\n",
      "   0.          0.          0.          0.5         0.5       ]\n",
      " [ 0.          0.          0.          0.          0.          0.          0.\n",
      "   0.          0.          0.          0.5         0.5       ]\n",
      " [ 0.          0.          0.          0.          0.          0.          0.\n",
      "   0.          0.          0.          0.5         0.5       ]\n",
      " [ 0.          0.          0.          0.          0.          0.          0.\n",
      "   0.          0.          0.          1.          0.        ]\n",
      " [ 0.          0.          0.          0.          0.          0.          0.\n",
      "   0.          0.          0.          0.          1.        ]]\n"
     ]
    }
   ],
   "source": [
    "prob = np.zeros((2, states+2, states+2))\n",
    "\n",
    "#==== action: continue playing ====\n",
    "\n",
    "#terminal states\n",
    "prob[0, states, states] = 1. # lose\n",
    "prob[0, states+1, states+1] = 1. # win\n",
    "\n",
    "for i in range(states):\n",
    "    for side in range(len(isBadSide)):\n",
    "        if isBadSide[side] == 0:\n",
    "            cash = side + 1\n",
    "            if i+cash < states:\n",
    "                prob[0][i][i+cash] += p\n",
    "            else:\n",
    "                prob[0][i][states+1] += p\n",
    "    prob[0][i][states] += p * sum(isBadSide)\n",
    "\n",
    "#==== action: get bank ====\n",
    "prob[1, :, states+1] = 1.\n",
    "\n",
    "prob[1, states, states+1] = 0\n",
    "prob[1, states, states] = 1.\n",
    "\n",
    "\n",
    "#==== check\n",
    "print(prob[0])"
   ]
  },
  {
   "cell_type": "code",
   "execution_count": 12,
   "metadata": {},
   "outputs": [
    {
     "name": "stdout",
     "output_type": "stream",
     "text": [
      "[[ 0.  0.]\n",
      " [ 0.  1.]\n",
      " [ 0.  2.]\n",
      " [ 0.  3.]\n",
      " [ 0.  4.]\n",
      " [ 0.  5.]\n",
      " [ 0.  6.]\n",
      " [ 0.  7.]\n",
      " [ 0.  8.]\n",
      " [ 0.  9.]\n",
      " [ 0.  0.]\n",
      " [ 0.  0.]]\n"
     ]
    }
   ],
   "source": [
    "#rewards = np.zeros((2, states+2, states+2))\n",
    "#rewards[0, :states, states] = -states\n",
    "#for i in range(states):\n",
    "#    rewards[1, i, states+1] = i\n",
    "\n",
    "rewards = np.zeros((states+2, 2))\n",
    "rewards[states] = 0\n",
    "for i in range(states):\n",
    "    rewards[i, 1] = i\n",
    "\n",
    "print(rewards)"
   ]
  },
  {
   "cell_type": "code",
   "execution_count": 13,
   "metadata": {},
   "outputs": [
    {
     "name": "stdout",
     "output_type": "stream",
     "text": [
      "WARNING: check conditions of convergence. With no discount, convergence can not be assumed.\n"
     ]
    }
   ],
   "source": [
    "vi = mdptoolbox.mdp.ValueIteration(prob, rewards, 1.)\n",
    "vi.run()"
   ]
  },
  {
   "cell_type": "code",
   "execution_count": 14,
   "metadata": {},
   "outputs": [
    {
     "name": "stdout",
     "output_type": "stream",
     "text": [
      "(0, 0, 0, 0, 1, 1, 1, 1, 1, 1, 0, 0)\n",
      "(2.5, 3.0, 3.4999999999999996, 4.0, 4.0, 5.0, 6.0, 7.0, 8.0, 9.0, 0.0, 0.0)\n"
     ]
    }
   ],
   "source": [
    "optimal_policy = vi.policy\n",
    "expected_values = vi.V\n",
    "\n",
    "print(optimal_policy)\n",
    "print(expected_values)"
   ]
  },
  {
   "cell_type": "code",
   "execution_count": 22,
   "metadata": {},
   "outputs": [
    {
     "data": {
      "text/plain": [
       "4"
      ]
     },
     "execution_count": 22,
     "metadata": {},
     "output_type": "execute_result"
    }
   ],
   "source": [
    "threshold = 0\n",
    "for i in range(len(optimal_policy)):\n",
    "    if optimal_policy[i] == 1:\n",
    "        threshold = i\n",
    "        break\n",
    "threshold"
   ]
  },
  {
   "cell_type": "code",
   "execution_count": 23,
   "metadata": {},
   "outputs": [
    {
     "data": {
      "text/plain": [
       "2.583333333333333"
      ]
     },
     "execution_count": 23,
     "metadata": {},
     "output_type": "execute_result"
    }
   ],
   "source": [
    "# Calc final\n",
    "def calc_exp(bank=0):\n",
    "    if bank > threshold:\n",
    "        return 0\n",
    "    exp = 0\n",
    "    for side in range(N):\n",
    "        if isBadSide[side] == 1:\n",
    "            exp += -bank * p\n",
    "        else:\n",
    "            exp += (side+1) * p + calc_exp(bank+side+1) * p\n",
    "    return exp\n",
    "\n",
    "calc_exp()"
   ]
  },
  {
   "cell_type": "code",
   "execution_count": null,
   "metadata": {
    "collapsed": true
   },
   "outputs": [],
   "source": []
  },
  {
   "cell_type": "code",
   "execution_count": null,
   "metadata": {
    "collapsed": true
   },
   "outputs": [],
   "source": []
  }
 ],
 "metadata": {
  "kernelspec": {
   "display_name": "Python 3",
   "language": "python",
   "name": "python3"
  },
  "language_info": {
   "codemirror_mode": {
    "name": "ipython",
    "version": 3
   },
   "file_extension": ".py",
   "mimetype": "text/x-python",
   "name": "python",
   "nbconvert_exporter": "python",
   "pygments_lexer": "ipython3",
   "version": "3.6.2"
  }
 },
 "nbformat": 4,
 "nbformat_minor": 2
}
