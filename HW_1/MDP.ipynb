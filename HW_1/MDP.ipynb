{
 "cells": [
  {
   "cell_type": "code",
   "execution_count": 1,
   "metadata": {
    "collapsed": true
   },
   "outputs": [],
   "source": [
    "import mdptoolbox\n",
    "import numpy as np"
   ]
  },
  {
   "cell_type": "code",
   "execution_count": 2,
   "metadata": {
    "collapsed": true
   },
   "outputs": [],
   "source": [
    "states = 50\n",
    "N = 8\n",
    "isBadSide = [0,0,0,1,0,0,0,0]\n",
    "p = 1./len(isBadSide)"
   ]
  },
  {
   "cell_type": "code",
   "execution_count": 3,
   "metadata": {},
   "outputs": [],
   "source": [
    "prob = np.zeros((2, states+2, states+2))\n",
    "\n",
    "#==== action: continue playing ====\n",
    "\n",
    "#terminal states\n",
    "prob[0, states, states] = 1. # lose\n",
    "prob[0, states+1, states+1] = 1. # win\n",
    "\n",
    "for i in range(states):\n",
    "    for side in range(len(isBadSide)):\n",
    "        if isBadSide[side] == 0:\n",
    "            cash = side + 1\n",
    "            if i+cash < states:\n",
    "                prob[0][i][i+cash] += p\n",
    "            else:\n",
    "                prob[0][i][states+1] += p\n",
    "    prob[0][i][states] += p * sum(isBadSide)\n",
    "\n",
    "#==== action: get bank ====\n",
    "prob[1, :, states+1] = 1.\n",
    "\n",
    "prob[1, states, states+1] = 0\n",
    "prob[1, states, states] = 1.\n",
    "\n",
    "\n",
    "#==== check\n",
    "#print(prob[0])"
   ]
  },
  {
   "cell_type": "code",
   "execution_count": 4,
   "metadata": {},
   "outputs": [],
   "source": [
    "#rewards = np.zeros((2, states+2, states+2))\n",
    "#rewards[0, :states, states] = -states\n",
    "#for i in range(states):\n",
    "#    rewards[1, i, states+1] = i\n",
    "\n",
    "rewards = np.zeros((states+2, 2))\n",
    "rewards[states] = 0\n",
    "for i in range(states):\n",
    "    rewards[i, 1] = i\n",
    "\n",
    "#print(rewards)"
   ]
  },
  {
   "cell_type": "code",
   "execution_count": 5,
   "metadata": {},
   "outputs": [
    {
     "name": "stdout",
     "output_type": "stream",
     "text": [
      "WARNING: check conditions of convergence. With no discount, convergence can not be assumed.\n"
     ]
    }
   ],
   "source": [
    "vi = mdptoolbox.mdp.ValueIteration(prob, rewards, 1.)\n",
    "vi.run()"
   ]
  },
  {
   "cell_type": "code",
   "execution_count": 6,
   "metadata": {},
   "outputs": [
    {
     "name": "stdout",
     "output_type": "stream",
     "text": [
      "(0, 0, 0, 0, 0, 0, 0, 0, 0, 0, 0, 0, 0, 0, 0, 0, 0, 0, 0, 0, 0, 0, 0, 0, 0, 0, 0, 0, 0, 0, 0, 0, 0, 1, 1, 1, 1, 1, 1, 1, 1, 1, 1, 1, 1, 1, 1, 1, 1, 1, 0, 0)\n",
      "(12.805182763841003, 13.178035708609968, 13.561609776457772, 13.956291714217514, 14.362477203831077, 14.780476765241474, 15.210581596707925, 15.65307422936894, 16.10823461273685, 16.57660458807368, 17.058733667246997, 17.555163529585116, 18.066400958690792, 18.592371795442887, 19.13324829004705, 19.68925784912426, 20.260641812812537, 20.849468813161366, 21.456605206476524, 22.082591525046155, 22.727673682849854, 23.38896018557716, 24.06739415321499, 24.763319559395313, 25.476795256137848, 26.221371173858643, 26.992130279541016, 27.786407470703125, 28.601806640625, 29.423828125, 30.265625, 31.125, 32.0, 33.0, 34.0, 35.0, 36.0, 37.0, 38.0, 39.0, 40.0, 41.0, 42.0, 43.0, 44.0, 45.0, 46.0, 47.0, 48.0, 49.0, 0.0, 0.0)\n"
     ]
    }
   ],
   "source": [
    "optimal_policy = vi.policy\n",
    "expected_values = vi.V\n",
    "\n",
    "print(optimal_policy)\n",
    "print(expected_values)"
   ]
  },
  {
   "cell_type": "code",
   "execution_count": 7,
   "metadata": {},
   "outputs": [
    {
     "data": {
      "text/plain": [
       "33"
      ]
     },
     "execution_count": 7,
     "metadata": {},
     "output_type": "execute_result"
    }
   ],
   "source": [
    "threshold = 0\n",
    "for i in range(len(optimal_policy)):\n",
    "    if optimal_policy[i] == 1:\n",
    "        threshold = i\n",
    "        break\n",
    "threshold"
   ]
  },
  {
   "cell_type": "code",
   "execution_count": 8,
   "metadata": {},
   "outputs": [
    {
     "data": {
      "text/plain": [
       "12.805182763841003"
      ]
     },
     "execution_count": 8,
     "metadata": {},
     "output_type": "execute_result"
    }
   ],
   "source": [
    "# Calc final\n",
    "def calc_exp(bank=0, depth=0):\n",
    "    if bank > threshold-2 or depth > 10:\n",
    "        return 0\n",
    "    exp = 0\n",
    "    for side in range(N):\n",
    "        if isBadSide[side] == 1:\n",
    "            exp += -bank * p\n",
    "        else:\n",
    "            exp += (side+1) * p + calc_exp(bank+side+1, depth+1) * p\n",
    "    return exp\n",
    "\n",
    "calc_exp()"
   ]
  },
  {
   "cell_type": "code",
   "execution_count": null,
   "metadata": {
    "collapsed": true
   },
   "outputs": [],
   "source": []
  },
  {
   "cell_type": "code",
   "execution_count": null,
   "metadata": {
    "collapsed": true
   },
   "outputs": [],
   "source": []
  }
 ],
 "metadata": {
  "kernelspec": {
   "display_name": "Python 3",
   "language": "python",
   "name": "python3"
  },
  "language_info": {
   "codemirror_mode": {
    "name": "ipython",
    "version": 3
   },
   "file_extension": ".py",
   "mimetype": "text/x-python",
   "name": "python",
   "nbconvert_exporter": "python",
   "pygments_lexer": "ipython3",
   "version": "3.6.2"
  }
 },
 "nbformat": 4,
 "nbformat_minor": 2
}
