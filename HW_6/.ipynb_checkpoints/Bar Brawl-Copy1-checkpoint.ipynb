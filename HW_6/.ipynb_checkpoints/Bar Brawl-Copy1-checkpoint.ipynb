{
 "cells": [
  {
   "cell_type": "code",
   "execution_count": 1,
   "metadata": {
    "collapsed": true
   },
   "outputs": [],
   "source": [
    "import numpy as np"
   ]
  },
  {
   "cell_type": "code",
   "execution_count": 2,
   "metadata": {},
   "outputs": [],
   "source": [
    "def predict(atbar, H):\n",
    "    res = np.zeros((P,P))\n",
    "    for f in range(P):\n",
    "        for p in range(P):\n",
    "            if H[f, p] == 1:\n",
    "                if atbar[f] == 1 and atbar[p] == 0:\n",
    "                    res[f,p] = 1\n",
    "    fights = np.sum(res * H)/np.sum(H)\n",
    "    if fights != 1 and fights != 0:\n",
    "        return -1, res\n",
    "    return int(fights), res"
   ]
  },
  {
   "cell_type": "code",
   "execution_count": 3,
   "metadata": {
    "collapsed": true
   },
   "outputs": [],
   "source": [
    "P = 2\n",
    "atEstablishment = \"{{1,1},{1,0},{0,1},{1,1},{0,0},{1,0},{1,1}}\"\n",
    "fightOccurred = \"{0,1,0,0,0,1,0}\""
   ]
  },
  {
   "cell_type": "code",
   "execution_count": 4,
   "metadata": {},
   "outputs": [],
   "source": [
    "def learn(atbars, fights, debug=False):\n",
    "    P = len(atbars[0])\n",
    "    H = np.ones((P, P))- np.identity(P)\n",
    "\n",
    "    nreqs = 0\n",
    "    preds = []\n",
    "\n",
    "    for i in range(len(atbars)):\n",
    "        pred, h_pred = predict(atbars[i], H)\n",
    "        preds.append(pred)\n",
    "        if pred == -1:\n",
    "            nreqs += 1\n",
    "            H[h_pred != fights[i]] = 0\n",
    "\n",
    "        if debug:\n",
    "            print(i, ':', pred,'\\n', H, '\\n\\n', h_pred, '\\n\\n')\n",
    "    return preds, nreqs"
   ]
  },
  {
   "cell_type": "code",
   "execution_count": 5,
   "metadata": {},
   "outputs": [
    {
     "name": "stdout",
     "output_type": "stream",
     "text": [
      "[[1, 1], [1, 0], [0, 1], [1, 1], [0, 0], [1, 0], [1, 1]]\n",
      "[0, 1, 0, 0, 0, 1, 0]\n"
     ]
    },
    {
     "data": {
      "text/plain": [
       "([0, -1, 0, 0, 0, 1, 0], 1)"
      ]
     },
     "execution_count": 5,
     "metadata": {},
     "output_type": "execute_result"
    }
   ],
   "source": [
    "atbars = [[int(i) for i in s.split(',')] for s  in atEstablishment[2:-2].split('},{')]\n",
    "fights = [int(i) for i in fightOccurred[1:-1].split(',')]\n",
    "\n",
    "print(atbars)\n",
    "print(fights)\n",
    "\n",
    "learn(atbars, fights)"
   ]
  },
  {
   "cell_type": "code",
   "execution_count": null,
   "metadata": {
    "collapsed": true
   },
   "outputs": [],
   "source": []
  }
 ],
 "metadata": {
  "kernelspec": {
   "display_name": "Python [conda env:rl]",
   "language": "python",
   "name": "conda-env-rl-py"
  },
  "language_info": {
   "codemirror_mode": {
    "name": "ipython",
    "version": 3
   },
   "file_extension": ".py",
   "mimetype": "text/x-python",
   "name": "python",
   "nbconvert_exporter": "python",
   "pygments_lexer": "ipython3",
   "version": "3.6.2"
  }
 },
 "nbformat": 4,
 "nbformat_minor": 2
}
